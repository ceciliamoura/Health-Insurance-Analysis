{
 "cells": [
  {
   "cell_type": "markdown",
   "id": "e6c9ac62-d80b-466f-b99d-da09447ad2c2",
   "metadata": {},
   "source": [
    "# Consistency checks"
   ]
  },
  {
   "cell_type": "markdown",
   "id": "cad1e4ee-1783-4ea0-9fa9-3d4da3165f36",
   "metadata": {},
   "source": [
    "## 1. Importing libraries"
   ]
  },
  {
   "cell_type": "code",
   "execution_count": 3,
   "id": "11e53376-56ff-42d9-833c-7dddffa1a4f4",
   "metadata": {},
   "outputs": [],
   "source": [
    "import pandas as pd\n",
    "import numpy as np\n",
    "import os\n"
   ]
  },
  {
   "cell_type": "markdown",
   "id": "8c649eb8-5d16-4000-98f1-f5cc502ce0af",
   "metadata": {},
   "source": [
    "## 2. Creating path for folder"
   ]
  },
  {
   "cell_type": "code",
   "execution_count": 15,
   "id": "377186cd-f1fc-4072-be3d-adf38c36a9ac",
   "metadata": {},
   "outputs": [],
   "source": [
    "path = r'/Users/ceciliamoura/Desktop/Career Foundry/Achievement 6/Analysis'"
   ]
  },
  {
   "cell_type": "markdown",
   "id": "9dc47b81-2ed9-4499-b11d-9efbb2ca63b6",
   "metadata": {},
   "source": [
    "## 3. Importing File"
   ]
  },
  {
   "cell_type": "code",
   "execution_count": 18,
   "id": "2cb89a39-178d-4385-b965-599cc4d55d20",
   "metadata": {},
   "outputs": [],
   "source": [
    "insurance = pd.read_csv(os.path.join (path, 'Original Data', 'insurance.csv'), index_col = False)"
   ]
  },
  {
   "cell_type": "code",
   "execution_count": 22,
   "id": "ab7d3e08-3cf6-4fd4-adc6-ec2fa880ac89",
   "metadata": {},
   "outputs": [
    {
     "data": {
      "text/html": [
       "<div>\n",
       "<style scoped>\n",
       "    .dataframe tbody tr th:only-of-type {\n",
       "        vertical-align: middle;\n",
       "    }\n",
       "\n",
       "    .dataframe tbody tr th {\n",
       "        vertical-align: top;\n",
       "    }\n",
       "\n",
       "    .dataframe thead th {\n",
       "        text-align: right;\n",
       "    }\n",
       "</style>\n",
       "<table border=\"1\" class=\"dataframe\">\n",
       "  <thead>\n",
       "    <tr style=\"text-align: right;\">\n",
       "      <th></th>\n",
       "      <th>age</th>\n",
       "      <th>sex</th>\n",
       "      <th>bmi</th>\n",
       "      <th>children</th>\n",
       "      <th>smoker</th>\n",
       "      <th>region</th>\n",
       "      <th>charges</th>\n",
       "    </tr>\n",
       "  </thead>\n",
       "  <tbody>\n",
       "    <tr>\n",
       "      <th>0</th>\n",
       "      <td>19</td>\n",
       "      <td>female</td>\n",
       "      <td>27.900</td>\n",
       "      <td>0</td>\n",
       "      <td>yes</td>\n",
       "      <td>southwest</td>\n",
       "      <td>16884.92400</td>\n",
       "    </tr>\n",
       "    <tr>\n",
       "      <th>1</th>\n",
       "      <td>18</td>\n",
       "      <td>male</td>\n",
       "      <td>33.770</td>\n",
       "      <td>1</td>\n",
       "      <td>no</td>\n",
       "      <td>southeast</td>\n",
       "      <td>1725.55230</td>\n",
       "    </tr>\n",
       "    <tr>\n",
       "      <th>2</th>\n",
       "      <td>28</td>\n",
       "      <td>male</td>\n",
       "      <td>33.000</td>\n",
       "      <td>3</td>\n",
       "      <td>no</td>\n",
       "      <td>southeast</td>\n",
       "      <td>4449.46200</td>\n",
       "    </tr>\n",
       "    <tr>\n",
       "      <th>3</th>\n",
       "      <td>33</td>\n",
       "      <td>male</td>\n",
       "      <td>22.705</td>\n",
       "      <td>0</td>\n",
       "      <td>no</td>\n",
       "      <td>northwest</td>\n",
       "      <td>21984.47061</td>\n",
       "    </tr>\n",
       "    <tr>\n",
       "      <th>4</th>\n",
       "      <td>32</td>\n",
       "      <td>male</td>\n",
       "      <td>28.880</td>\n",
       "      <td>0</td>\n",
       "      <td>no</td>\n",
       "      <td>northwest</td>\n",
       "      <td>3866.85520</td>\n",
       "    </tr>\n",
       "  </tbody>\n",
       "</table>\n",
       "</div>"
      ],
      "text/plain": [
       "   age     sex     bmi  children smoker     region      charges\n",
       "0   19  female  27.900         0    yes  southwest  16884.92400\n",
       "1   18    male  33.770         1     no  southeast   1725.55230\n",
       "2   28    male  33.000         3     no  southeast   4449.46200\n",
       "3   33    male  22.705         0     no  northwest  21984.47061\n",
       "4   32    male  28.880         0     no  northwest   3866.85520"
      ]
     },
     "execution_count": 22,
     "metadata": {},
     "output_type": "execute_result"
    }
   ],
   "source": [
    "insurance.head()"
   ]
  },
  {
   "cell_type": "code",
   "execution_count": 24,
   "id": "05cd2d73-1dbf-4ff6-a3c1-b0bc3ab1bbdb",
   "metadata": {},
   "outputs": [
    {
     "data": {
      "text/plain": [
       "(1338, 7)"
      ]
     },
     "execution_count": 24,
     "metadata": {},
     "output_type": "execute_result"
    }
   ],
   "source": [
    "insurance.shape"
   ]
  },
  {
   "cell_type": "code",
   "execution_count": 30,
   "id": "50092038-3f69-46d2-930e-0eed09763351",
   "metadata": {},
   "outputs": [
    {
     "data": {
      "text/plain": [
       "age           int64\n",
       "sex          object\n",
       "bmi         float64\n",
       "children      int64\n",
       "smoker       object\n",
       "region       object\n",
       "charges     float64\n",
       "dtype: object"
      ]
     },
     "execution_count": 30,
     "metadata": {},
     "output_type": "execute_result"
    }
   ],
   "source": [
    "insurance.dtypes"
   ]
  },
  {
   "cell_type": "markdown",
   "id": "b1756ccb-553a-4995-9ad4-f62d787ded6c",
   "metadata": {},
   "source": [
    "## 4. Missing Values?"
   ]
  },
  {
   "cell_type": "code",
   "execution_count": 33,
   "id": "16e3b2dd-42af-476e-b633-912feb26ca45",
   "metadata": {},
   "outputs": [
    {
     "data": {
      "text/plain": [
       "age         0\n",
       "sex         0\n",
       "bmi         0\n",
       "children    0\n",
       "smoker      0\n",
       "region      0\n",
       "charges     0\n",
       "dtype: int64"
      ]
     },
     "execution_count": 33,
     "metadata": {},
     "output_type": "execute_result"
    }
   ],
   "source": [
    "insurance.isnull().sum()"
   ]
  },
  {
   "cell_type": "markdown",
   "id": "06222bc3-9458-45b9-9bf3-2604081aa50d",
   "metadata": {},
   "source": [
    "## 5. Mixed data types?"
   ]
  },
  {
   "cell_type": "code",
   "execution_count": 40,
   "id": "4535e32b-3ee6-4ed3-9911-b45a45a72932",
   "metadata": {},
   "outputs": [],
   "source": [
    "#check for mixed type\n",
    "\n",
    "for col in insurance.columns.tolist():\n",
    "  weird = (insurance[[col]].map(type) != insurance[[col]].iloc[0].apply(type)).any(axis = 1)\n",
    "  if len (insurance[weird]) > 0:\n",
    "    print (col)"
   ]
  },
  {
   "cell_type": "code",
   "execution_count": 42,
   "id": "a0b30d96-2c8b-46f1-ab80-bb29c47c1cc3",
   "metadata": {},
   "outputs": [],
   "source": [
    "# no mixed data type"
   ]
  },
  {
   "cell_type": "markdown",
   "id": "ca9f3c8d-816b-4b7c-850c-456d4d1c4984",
   "metadata": {},
   "source": [
    "## 6. Duplicates?"
   ]
  },
  {
   "cell_type": "code",
   "execution_count": 45,
   "id": "79a4caf8-6136-4b67-a3fa-a30c16adc8e2",
   "metadata": {},
   "outputs": [],
   "source": [
    "insurance_dups = insurance[insurance.duplicated()]"
   ]
  },
  {
   "cell_type": "code",
   "execution_count": 49,
   "id": "024815ff-0d95-4c33-bbb8-3da4ebe412a4",
   "metadata": {},
   "outputs": [
    {
     "data": {
      "text/html": [
       "<div>\n",
       "<style scoped>\n",
       "    .dataframe tbody tr th:only-of-type {\n",
       "        vertical-align: middle;\n",
       "    }\n",
       "\n",
       "    .dataframe tbody tr th {\n",
       "        vertical-align: top;\n",
       "    }\n",
       "\n",
       "    .dataframe thead th {\n",
       "        text-align: right;\n",
       "    }\n",
       "</style>\n",
       "<table border=\"1\" class=\"dataframe\">\n",
       "  <thead>\n",
       "    <tr style=\"text-align: right;\">\n",
       "      <th></th>\n",
       "      <th>age</th>\n",
       "      <th>sex</th>\n",
       "      <th>bmi</th>\n",
       "      <th>children</th>\n",
       "      <th>smoker</th>\n",
       "      <th>region</th>\n",
       "      <th>charges</th>\n",
       "    </tr>\n",
       "  </thead>\n",
       "  <tbody>\n",
       "    <tr>\n",
       "      <th>581</th>\n",
       "      <td>19</td>\n",
       "      <td>male</td>\n",
       "      <td>30.59</td>\n",
       "      <td>0</td>\n",
       "      <td>no</td>\n",
       "      <td>northwest</td>\n",
       "      <td>1639.5631</td>\n",
       "    </tr>\n",
       "  </tbody>\n",
       "</table>\n",
       "</div>"
      ],
      "text/plain": [
       "     age   sex    bmi  children smoker     region    charges\n",
       "581   19  male  30.59         0     no  northwest  1639.5631"
      ]
     },
     "execution_count": 49,
     "metadata": {},
     "output_type": "execute_result"
    }
   ],
   "source": [
    "insurance_dups.head()"
   ]
  },
  {
   "cell_type": "code",
   "execution_count": 51,
   "id": "06b3c106-2d3a-4e4b-8a3f-afae80820150",
   "metadata": {},
   "outputs": [],
   "source": [
    "# dropping duplicate entry\n",
    "\n",
    "insurance_cleaned = insurance.drop_duplicates()"
   ]
  },
  {
   "cell_type": "code",
   "execution_count": 53,
   "id": "650b34f5-948b-4dfb-aeab-a33dcd1a6f67",
   "metadata": {},
   "outputs": [
    {
     "data": {
      "text/plain": [
       "(1337, 7)"
      ]
     },
     "execution_count": 53,
     "metadata": {},
     "output_type": "execute_result"
    }
   ],
   "source": [
    "insurance_cleaned.shape"
   ]
  },
  {
   "cell_type": "markdown",
   "id": "10eb72bb-b541-4bdf-97f5-38b27892e454",
   "metadata": {},
   "source": [
    "## 7. Exporting Clean file"
   ]
  },
  {
   "cell_type": "code",
   "execution_count": 56,
   "id": "90aed404-a2ed-497c-bc1f-800d62ca3cdf",
   "metadata": {},
   "outputs": [],
   "source": [
    "insurance_cleaned.to_csv(os.path.join(path, 'Prepared Data', 'insurance_cleaned.csv'))"
   ]
  },
  {
   "cell_type": "code",
   "execution_count": null,
   "id": "7b836cdb-d56b-4db1-bba0-bba1063f2e58",
   "metadata": {},
   "outputs": [],
   "source": []
  }
 ],
 "metadata": {
  "kernelspec": {
   "display_name": "Python 3 (ipykernel)",
   "language": "python",
   "name": "python3"
  },
  "language_info": {
   "codemirror_mode": {
    "name": "ipython",
    "version": 3
   },
   "file_extension": ".py",
   "mimetype": "text/x-python",
   "name": "python",
   "nbconvert_exporter": "python",
   "pygments_lexer": "ipython3",
   "version": "3.11.7"
  }
 },
 "nbformat": 4,
 "nbformat_minor": 5
}
